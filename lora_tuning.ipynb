{
  "cells": [
    {
      "cell_type": "markdown",
      "metadata": {
        "id": "G3MMAcssHTML"
      },
      "source": [
        "<link rel=\"stylesheet\" href=\"/site-assets/css/gemma.css\">\n",
        "<link rel=\"stylesheet\" href=\"https://fonts.googleapis.com/css2?family=Google+Symbols:opsz,wght,FILL,GRAD@20..48,100..700,0..1,-50..200\" />"
      ]
    },
    {
      "cell_type": "markdown",
      "metadata": {
        "id": "Tce3stUlHN0L"
      },
      "source": [
        "##### Copyright 2024 Google LLC."
      ]
    },
    {
      "cell_type": "code",
      "execution_count": null,
      "metadata": {
        "cellView": "form",
        "id": "tuOe1ymfHZPu"
      },
      "outputs": [],
      "source": [
        "#@title Licensed under the Apache License, Version 2.0 (the \"License\");\n",
        "# you may not use this file except in compliance with the License.\n",
        "# You may obtain a copy of the License at\n",
        "#\n",
        "# https://www.apache.org/licenses/LICENSE-2.0\n",
        "#\n",
        "# Unless required by applicable law or agreed to in writing, software\n",
        "# distributed under the License is distributed on an \"AS IS\" BASIS,\n",
        "# WITHOUT WARRANTIES OR CONDITIONS OF ANY KIND, either express or implied.\n",
        "# See the License for the specific language governing permissions and\n",
        "# limitations under the License."
      ]
    },
    {
      "cell_type": "markdown",
      "metadata": {
        "id": "SDEExiAk4fLb"
      },
      "source": [
        "# Fine-tune Gemma models in Keras using LoRA"
      ]
    },
    {
      "cell_type": "markdown",
      "metadata": {
        "id": "ZFWzQEqNosrS"
      },
      "source": [
        "<table class=\"tfo-notebook-buttons\" align=\"left\">\n",
        "  <td>\n",
        "    <a target=\"_blank\" href=\"https://ai.google.dev/gemma/docs/lora_tuning\"><img src=\"https://ai.google.dev/static/site-assets/images/docs/notebook-site-button.png\" height=\"32\" width=\"32\" />View on ai.google.dev</a>\n",
        "  <td>\n",
        "    <a target=\"_blank\" href=\"https://colab.research.google.com/github/google/generative-ai-docs/blob/main/site/en/gemma/docs/lora_tuning.ipynb\"><img src=\"https://www.tensorflow.org/images/colab_logo_32px.png\" />Run in Google Colab</a>\n",
        "  </td>\n",
        "  <td>\n",
        "    <a target=\"_blank\" href=\"https://console.cloud.google.com/vertex-ai/workbench/deploy-notebook?download_url=https://raw.githubusercontent.com/google/generative-ai-docs/main/site/en/gemma/docs/lora_tuning.ipynb\"><img src=\"https://ai.google.dev/images/cloud-icon.svg\" width=\"40\" />Open in Vertex AI</a>\n",
        "  </td>\n",
        "  <td>\n",
        "    <a target=\"_blank\" href=\"https://github.com/google/generative-ai-docs/blob/main/site/en/gemma/docs/lora_tuning.ipynb\"><img src=\"https://www.tensorflow.org/images/GitHub-Mark-32px.png\" />View source on GitHub</a>\n",
        "  </td>\n",
        "</table>"
      ]
    },
    {
      "cell_type": "markdown",
      "metadata": {
        "id": "lSGRSsRPgkzK"
      },
      "source": [
        "## Overview\n",
        "\n",
        "Gemma is a family of lightweight, state-of-the art open models built from the same research and technology used to create the Gemini models.\n",
        "\n",
        "Large Language Models (LLMs) like Gemma have been shown to be effective at a variety of NLP tasks. An LLM is first pre-trained on a large corpus of text in a self-supervised fashion. Pre-training helps LLMs learn general-purpose knowledge, such as statistical relationships between words. An LLM can then be fine-tuned with domain-specific data to perform downstream tasks (such as sentiment analysis).\n",
        "\n",
        "LLMs are extremely large in size (parameters in the order of billions). Full fine-tuning (which updates all the parameters in the model) is not required for most applications because typical fine-tuning datasets are relatively much smaller than the pre-training datasets.\n",
        "\n",
        "[Low Rank Adaptation (LoRA)](https://arxiv.org/abs/2106.09685) is a fine-tuning technique which greatly reduces the number of trainable parameters for downstream tasks by freezing the weights of the model and inserting a smaller number of new weights into the model. This makes training with LoRA much faster and more memory-efficient, and produces smaller model weights (a few hundred MBs), all while maintaining the quality of the model outputs.\n",
        "\n",
        "This tutorial walks you through using KerasNLP to perform LoRA fine-tuning on a Gemma 2B model using the [Databricks Dolly 15k dataset](https://huggingface.co/datasets/databricks/databricks-dolly-15k). This dataset contains 15,000 high-quality human-generated prompt / response pairs specifically designed for fine-tuning LLMs."
      ]
    },
    {
      "cell_type": "markdown",
      "metadata": {
        "id": "w1q6-W_mKIT-"
      },
      "source": [
        "## Setup"
      ]
    },
    {
      "cell_type": "markdown",
      "metadata": {
        "id": "lyhHCMfoRZ_v"
      },
      "source": [
        "### Get access to Gemma\n",
        "\n",
        "To complete this tutorial, you will first need to complete the setup instructions at [Gemma setup](https://ai.google.dev/gemma/docs/setup). The Gemma setup instructions show you how to do the following:\n",
        "\n",
        "* Get access to Gemma on [kaggle.com](https://kaggle.com).\n",
        "* Select a Colab runtime with sufficient resources to run\n",
        "  the Gemma 2B model.\n",
        "* Generate and configure a Kaggle username and API key.\n",
        "\n",
        "After you've completed the Gemma setup, move on to the next section, where you'll set environment variables for your Colab environment."
      ]
    },
    {
      "cell_type": "markdown",
      "metadata": {
        "id": "AZ5Qo0fxRZ1V"
      },
      "source": [
        "### Select the runtime\n",
        "\n",
        "To complete this tutorial, you'll need to have a Colab runtime with sufficient resources to run the Gemma model. In this case, you can use a T4 GPU:\n",
        "\n",
        "1. In the upper-right of the Colab window, select &#9662; (**Additional connection options**).\n",
        "2. Select **Change runtime type**.\n",
        "3. Under **Hardware accelerator**, select **T4 GPU**."
      ]
    },
    {
      "cell_type": "markdown",
      "metadata": {
        "id": "hsPC0HRkJl0K"
      },
      "source": [
        "### Configure your API key\n",
        "\n",
        "To use Gemma, you must provide your Kaggle username and a Kaggle API key.\n",
        "\n",
        "To generate a Kaggle API key, go to the **Account** tab of your Kaggle user profile and select **Create New Token**. This will trigger the download of a `kaggle.json` file containing your API credentials.\n",
        "\n",
        "In Colab, select **Secrets** (🔑) in the left pane and add your Kaggle username and Kaggle API key. Store your username under the name `KAGGLE_USERNAME` and your API key under the name `KAGGLE_KEY`."
      ]
    },
    {
      "cell_type": "markdown",
      "metadata": {
        "id": "7iOF6Yo-wUEC"
      },
      "source": [
        "### Set environment variables\n",
        "\n",
        "Set environment variables for `KAGGLE_USERNAME` and `KAGGLE_KEY`."
      ]
    },
    {
      "cell_type": "code",
      "execution_count": 3,
      "metadata": {
        "id": "0_EdOg9DPK6Q"
      },
      "outputs": [],
      "source": [
        "import os\n",
        "from dotenv import load_dotenv\n",
        "\n",
        "load_dotenv()\n",
        "\n",
        "os.environ[\"KAGGLE_USERNAME\"] = os.getenv('KAGGLE_USERNAME')\n",
        "os.environ[\"KAGGLE_KEY\"] = os.getenv('KAGGLE_KEY')"
      ]
    },
    {
      "cell_type": "markdown",
      "metadata": {
        "id": "CuEUAKJW1QkQ"
      },
      "source": [
        "### Install dependencies\n",
        "\n",
        "Install Keras, KerasNLP, and other dependencies."
      ]
    },
    {
      "cell_type": "code",
      "execution_count": 37,
      "metadata": {
        "id": "1eeBtYqJsZPG"
      },
      "outputs": [],
      "source": [
        "# Install Keras 3 last. See https://keras.io/getting_started/ for more details.\n",
        "!pip install -q -U keras-nlp\n",
        "!pip install -q -U \"keras>=3\""
      ]
    },
    {
      "cell_type": "code",
      "execution_count": 9,
      "metadata": {},
      "outputs": [
        {
          "name": "stdout",
          "output_type": "stream",
          "text": [
            "Requirement already satisfied: jax in c:\\users\\akindu himan\\appdata\\local\\programs\\python\\python311\\lib\\site-packages (0.4.38)\n",
            "Requirement already satisfied: jaxlib in c:\\users\\akindu himan\\appdata\\local\\programs\\python\\python311\\lib\\site-packages (0.4.38)\n",
            "Requirement already satisfied: ml_dtypes>=0.4.0 in c:\\users\\akindu himan\\appdata\\local\\programs\\python\\python311\\lib\\site-packages (from jax) (0.5.1)\n",
            "Requirement already satisfied: numpy>=1.24 in c:\\users\\akindu himan\\appdata\\local\\programs\\python\\python311\\lib\\site-packages (from jax) (1.26.4)\n",
            "Requirement already satisfied: opt_einsum in c:\\users\\akindu himan\\appdata\\local\\programs\\python\\python311\\lib\\site-packages (from jax) (3.3.0)\n",
            "Requirement already satisfied: scipy>=1.10 in c:\\users\\akindu himan\\appdata\\local\\programs\\python\\python311\\lib\\site-packages (from jax) (1.14.1)\n",
            "Requirement already satisfied: tensorflow in c:\\users\\akindu himan\\appdata\\local\\programs\\python\\python311\\lib\\site-packages (2.15.0)\n",
            "Collecting tensorflow\n",
            "  Downloading tensorflow-2.18.0-cp311-cp311-win_amd64.whl.metadata (3.3 kB)\n",
            "Requirement already satisfied: keras in c:\\users\\akindu himan\\appdata\\local\\programs\\python\\python311\\lib\\site-packages (3.3.3)\n",
            "Collecting keras\n",
            "  Using cached keras-3.8.0-py3-none-any.whl.metadata (5.8 kB)\n",
            "Requirement already satisfied: ml-dtypes in c:\\users\\akindu himan\\appdata\\local\\programs\\python\\python311\\lib\\site-packages (0.5.1)\n",
            "Collecting tensorflow-intel==2.18.0 (from tensorflow)\n",
            "  Downloading tensorflow_intel-2.18.0-cp311-cp311-win_amd64.whl.metadata (4.9 kB)\n",
            "Requirement already satisfied: absl-py>=1.0.0 in c:\\users\\akindu himan\\appdata\\local\\programs\\python\\python311\\lib\\site-packages (from tensorflow-intel==2.18.0->tensorflow) (2.1.0)\n",
            "Requirement already satisfied: astunparse>=1.6.0 in c:\\users\\akindu himan\\appdata\\local\\programs\\python\\python311\\lib\\site-packages (from tensorflow-intel==2.18.0->tensorflow) (1.6.3)\n",
            "Requirement already satisfied: flatbuffers>=24.3.25 in c:\\users\\akindu himan\\appdata\\local\\programs\\python\\python311\\lib\\site-packages (from tensorflow-intel==2.18.0->tensorflow) (24.3.25)\n",
            "Requirement already satisfied: gast!=0.5.0,!=0.5.1,!=0.5.2,>=0.2.1 in c:\\users\\akindu himan\\appdata\\local\\programs\\python\\python311\\lib\\site-packages (from tensorflow-intel==2.18.0->tensorflow) (0.5.4)\n",
            "Requirement already satisfied: google-pasta>=0.1.1 in c:\\users\\akindu himan\\appdata\\local\\programs\\python\\python311\\lib\\site-packages (from tensorflow-intel==2.18.0->tensorflow) (0.2.0)\n",
            "Requirement already satisfied: libclang>=13.0.0 in c:\\users\\akindu himan\\appdata\\local\\programs\\python\\python311\\lib\\site-packages (from tensorflow-intel==2.18.0->tensorflow) (18.1.1)\n",
            "Requirement already satisfied: opt-einsum>=2.3.2 in c:\\users\\akindu himan\\appdata\\local\\programs\\python\\python311\\lib\\site-packages (from tensorflow-intel==2.18.0->tensorflow) (3.3.0)\n",
            "Requirement already satisfied: packaging in c:\\users\\akindu himan\\appdata\\local\\programs\\python\\python311\\lib\\site-packages (from tensorflow-intel==2.18.0->tensorflow) (24.1)\n",
            "Requirement already satisfied: protobuf!=4.21.0,!=4.21.1,!=4.21.2,!=4.21.3,!=4.21.4,!=4.21.5,<6.0.0dev,>=3.20.3 in c:\\users\\akindu himan\\appdata\\local\\programs\\python\\python311\\lib\\site-packages (from tensorflow-intel==2.18.0->tensorflow) (4.25.3)\n",
            "Requirement already satisfied: requests<3,>=2.21.0 in c:\\users\\akindu himan\\appdata\\local\\programs\\python\\python311\\lib\\site-packages (from tensorflow-intel==2.18.0->tensorflow) (2.32.3)\n",
            "Requirement already satisfied: setuptools in c:\\users\\akindu himan\\appdata\\local\\programs\\python\\python311\\lib\\site-packages (from tensorflow-intel==2.18.0->tensorflow) (65.5.0)\n",
            "Requirement already satisfied: six>=1.12.0 in c:\\users\\akindu himan\\appdata\\local\\programs\\python\\python311\\lib\\site-packages (from tensorflow-intel==2.18.0->tensorflow) (1.16.0)\n",
            "Requirement already satisfied: termcolor>=1.1.0 in c:\\users\\akindu himan\\appdata\\local\\programs\\python\\python311\\lib\\site-packages (from tensorflow-intel==2.18.0->tensorflow) (2.4.0)\n",
            "Requirement already satisfied: typing-extensions>=3.6.6 in c:\\users\\akindu himan\\appdata\\local\\programs\\python\\python311\\lib\\site-packages (from tensorflow-intel==2.18.0->tensorflow) (4.12.2)\n",
            "Requirement already satisfied: wrapt>=1.11.0 in c:\\users\\akindu himan\\appdata\\local\\programs\\python\\python311\\lib\\site-packages (from tensorflow-intel==2.18.0->tensorflow) (1.14.1)\n",
            "Requirement already satisfied: grpcio<2.0,>=1.24.3 in c:\\users\\akindu himan\\appdata\\local\\programs\\python\\python311\\lib\\site-packages (from tensorflow-intel==2.18.0->tensorflow) (1.63.0)\n",
            "Collecting tensorboard<2.19,>=2.18 (from tensorflow-intel==2.18.0->tensorflow)\n",
            "  Downloading tensorboard-2.18.0-py3-none-any.whl.metadata (1.6 kB)\n",
            "Requirement already satisfied: numpy<2.1.0,>=1.26.0 in c:\\users\\akindu himan\\appdata\\local\\programs\\python\\python311\\lib\\site-packages (from tensorflow-intel==2.18.0->tensorflow) (1.26.4)\n",
            "Requirement already satisfied: h5py>=3.11.0 in c:\\users\\akindu himan\\appdata\\local\\programs\\python\\python311\\lib\\site-packages (from tensorflow-intel==2.18.0->tensorflow) (3.11.0)\n",
            "Collecting ml-dtypes\n",
            "  Downloading ml_dtypes-0.4.1-cp311-cp311-win_amd64.whl.metadata (20 kB)\n",
            "Requirement already satisfied: tensorflow-io-gcs-filesystem>=0.23.1 in c:\\users\\akindu himan\\appdata\\local\\programs\\python\\python311\\lib\\site-packages (from tensorflow-intel==2.18.0->tensorflow) (0.31.0)\n",
            "Requirement already satisfied: rich in c:\\users\\akindu himan\\appdata\\local\\programs\\python\\python311\\lib\\site-packages (from keras) (13.9.1)\n",
            "Requirement already satisfied: namex in c:\\users\\akindu himan\\appdata\\local\\programs\\python\\python311\\lib\\site-packages (from keras) (0.0.8)\n",
            "Requirement already satisfied: optree in c:\\users\\akindu himan\\appdata\\local\\programs\\python\\python311\\lib\\site-packages (from keras) (0.11.0)\n",
            "Requirement already satisfied: markdown-it-py>=2.2.0 in c:\\users\\akindu himan\\appdata\\local\\programs\\python\\python311\\lib\\site-packages (from rich->keras) (3.0.0)\n",
            "Requirement already satisfied: pygments<3.0.0,>=2.13.0 in c:\\users\\akindu himan\\appdata\\local\\programs\\python\\python311\\lib\\site-packages (from rich->keras) (2.15.1)\n",
            "Requirement already satisfied: wheel<1.0,>=0.23.0 in c:\\users\\akindu himan\\appdata\\local\\programs\\python\\python311\\lib\\site-packages (from astunparse>=1.6.0->tensorflow-intel==2.18.0->tensorflow) (0.43.0)\n",
            "Requirement already satisfied: mdurl~=0.1 in c:\\users\\akindu himan\\appdata\\local\\programs\\python\\python311\\lib\\site-packages (from markdown-it-py>=2.2.0->rich->keras) (0.1.2)\n",
            "Requirement already satisfied: charset-normalizer<4,>=2 in c:\\users\\akindu himan\\appdata\\local\\programs\\python\\python311\\lib\\site-packages (from requests<3,>=2.21.0->tensorflow-intel==2.18.0->tensorflow) (3.3.2)\n",
            "Requirement already satisfied: idna<4,>=2.5 in c:\\users\\akindu himan\\appdata\\local\\programs\\python\\python311\\lib\\site-packages (from requests<3,>=2.21.0->tensorflow-intel==2.18.0->tensorflow) (3.8)\n",
            "Requirement already satisfied: urllib3<3,>=1.21.1 in c:\\users\\akindu himan\\appdata\\local\\programs\\python\\python311\\lib\\site-packages (from requests<3,>=2.21.0->tensorflow-intel==2.18.0->tensorflow) (2.2.2)\n",
            "Requirement already satisfied: certifi>=2017.4.17 in c:\\users\\akindu himan\\appdata\\local\\programs\\python\\python311\\lib\\site-packages (from requests<3,>=2.21.0->tensorflow-intel==2.18.0->tensorflow) (2024.8.30)\n",
            "Requirement already satisfied: markdown>=2.6.8 in c:\\users\\akindu himan\\appdata\\local\\programs\\python\\python311\\lib\\site-packages (from tensorboard<2.19,>=2.18->tensorflow-intel==2.18.0->tensorflow) (3.6)\n",
            "Requirement already satisfied: tensorboard-data-server<0.8.0,>=0.7.0 in c:\\users\\akindu himan\\appdata\\local\\programs\\python\\python311\\lib\\site-packages (from tensorboard<2.19,>=2.18->tensorflow-intel==2.18.0->tensorflow) (0.7.2)\n",
            "Requirement already satisfied: werkzeug>=1.0.1 in c:\\users\\akindu himan\\appdata\\local\\programs\\python\\python311\\lib\\site-packages (from tensorboard<2.19,>=2.18->tensorflow-intel==2.18.0->tensorflow) (3.0.3)\n",
            "Requirement already satisfied: MarkupSafe>=2.1.1 in c:\\users\\akindu himan\\appdata\\local\\programs\\python\\python311\\lib\\site-packages (from werkzeug>=1.0.1->tensorboard<2.19,>=2.18->tensorflow-intel==2.18.0->tensorflow) (2.1.2)\n",
            "Downloading tensorflow-2.18.0-cp311-cp311-win_amd64.whl (7.5 kB)\n",
            "Downloading tensorflow_intel-2.18.0-cp311-cp311-win_amd64.whl (390.2 MB)\n",
            "   ---------------------------------------- 0.0/390.2 MB ? eta -:--:--\n",
            "   ---------------------------------------- 0.8/390.2 MB 6.6 MB/s eta 0:00:59\n",
            "   ---------------------------------------- 3.1/390.2 MB 10.2 MB/s eta 0:00:38\n",
            "    --------------------------------------- 5.8/390.2 MB 11.4 MB/s eta 0:00:34\n",
            "    --------------------------------------- 8.7/390.2 MB 11.7 MB/s eta 0:00:33\n",
            "   - -------------------------------------- 11.3/390.2 MB 11.7 MB/s eta 0:00:33\n",
            "   - -------------------------------------- 13.9/390.2 MB 11.9 MB/s eta 0:00:32\n",
            "   - -------------------------------------- 16.3/390.2 MB 11.9 MB/s eta 0:00:32\n",
            "   - -------------------------------------- 18.6/390.2 MB 11.9 MB/s eta 0:00:32\n",
            "   -- ------------------------------------- 21.2/390.2 MB 11.9 MB/s eta 0:00:32\n",
            "   -- ------------------------------------- 23.9/390.2 MB 12.0 MB/s eta 0:00:31\n",
            "   -- ------------------------------------- 26.2/390.2 MB 11.9 MB/s eta 0:00:31\n",
            "   -- ------------------------------------- 28.8/390.2 MB 11.9 MB/s eta 0:00:31\n",
            "   --- ------------------------------------ 31.2/390.2 MB 11.9 MB/s eta 0:00:31\n",
            "   --- ------------------------------------ 33.8/390.2 MB 11.9 MB/s eta 0:00:31\n",
            "   --- ------------------------------------ 36.4/390.2 MB 11.9 MB/s eta 0:00:30\n",
            "   ---- ----------------------------------- 39.1/390.2 MB 12.0 MB/s eta 0:00:30\n",
            "   ---- ----------------------------------- 41.4/390.2 MB 11.9 MB/s eta 0:00:30\n",
            "   ---- ----------------------------------- 44.0/390.2 MB 11.9 MB/s eta 0:00:30\n",
            "   ---- ----------------------------------- 46.7/390.2 MB 12.0 MB/s eta 0:00:29\n",
            "   ----- ---------------------------------- 49.3/390.2 MB 12.0 MB/s eta 0:00:29\n",
            "   ----- ---------------------------------- 51.4/390.2 MB 11.9 MB/s eta 0:00:29\n",
            "   ----- ---------------------------------- 54.0/390.2 MB 11.9 MB/s eta 0:00:29\n",
            "   ----- ---------------------------------- 56.4/390.2 MB 11.9 MB/s eta 0:00:29\n",
            "   ------ --------------------------------- 58.7/390.2 MB 11.9 MB/s eta 0:00:28\n",
            "   ------ --------------------------------- 61.1/390.2 MB 11.8 MB/s eta 0:00:28\n",
            "   ------ --------------------------------- 63.4/390.2 MB 11.8 MB/s eta 0:00:28\n",
            "   ------ --------------------------------- 65.5/390.2 MB 11.8 MB/s eta 0:00:28\n",
            "   ------- -------------------------------- 68.4/390.2 MB 11.8 MB/s eta 0:00:28\n",
            "   ------- -------------------------------- 69.7/390.2 MB 11.6 MB/s eta 0:00:28\n",
            "   ------- -------------------------------- 71.8/390.2 MB 11.5 MB/s eta 0:00:28\n",
            "   ------- -------------------------------- 73.9/390.2 MB 11.5 MB/s eta 0:00:28\n",
            "   ------- -------------------------------- 76.3/390.2 MB 11.5 MB/s eta 0:00:28\n",
            "   -------- ------------------------------- 78.9/390.2 MB 11.5 MB/s eta 0:00:28\n",
            "   -------- ------------------------------- 81.3/390.2 MB 11.5 MB/s eta 0:00:27\n",
            "   -------- ------------------------------- 83.9/390.2 MB 11.5 MB/s eta 0:00:27\n",
            "   -------- ------------------------------- 86.5/390.2 MB 11.5 MB/s eta 0:00:27\n",
            "   --------- ------------------------------ 88.9/390.2 MB 11.5 MB/s eta 0:00:27\n",
            "   --------- ------------------------------ 91.5/390.2 MB 11.5 MB/s eta 0:00:26\n",
            "   --------- ------------------------------ 93.8/390.2 MB 11.5 MB/s eta 0:00:26\n",
            "   --------- ------------------------------ 96.5/390.2 MB 11.5 MB/s eta 0:00:26\n",
            "   ---------- ----------------------------- 98.8/390.2 MB 11.5 MB/s eta 0:00:26\n",
            "   ---------- ---------------------------- 100.9/390.2 MB 11.5 MB/s eta 0:00:26\n",
            "   ---------- ---------------------------- 103.3/390.2 MB 11.5 MB/s eta 0:00:25\n",
            "   ---------- ---------------------------- 105.9/390.2 MB 11.5 MB/s eta 0:00:25\n",
            "   ---------- ---------------------------- 108.3/390.2 MB 11.5 MB/s eta 0:00:25\n",
            "   ----------- --------------------------- 110.4/390.2 MB 11.5 MB/s eta 0:00:25\n",
            "   ----------- --------------------------- 112.2/390.2 MB 11.4 MB/s eta 0:00:25\n",
            "   ----------- --------------------------- 114.3/390.2 MB 11.4 MB/s eta 0:00:25\n",
            "   ----------- --------------------------- 116.9/390.2 MB 11.4 MB/s eta 0:00:25\n",
            "   ----------- --------------------------- 119.3/390.2 MB 11.4 MB/s eta 0:00:24\n",
            "   ------------ -------------------------- 121.9/390.2 MB 11.4 MB/s eta 0:00:24\n",
            "   ------------ -------------------------- 124.0/390.2 MB 11.3 MB/s eta 0:00:24\n",
            "   ------------ -------------------------- 126.4/390.2 MB 11.3 MB/s eta 0:00:24\n",
            "   ------------ -------------------------- 129.0/390.2 MB 11.3 MB/s eta 0:00:24\n",
            "   ------------- ------------------------- 131.3/390.2 MB 11.4 MB/s eta 0:00:23\n",
            "   ------------- ------------------------- 133.7/390.2 MB 11.4 MB/s eta 0:00:23\n",
            "   ------------- ------------------------- 136.3/390.2 MB 11.4 MB/s eta 0:00:23\n",
            "   ------------- ------------------------- 138.9/390.2 MB 11.4 MB/s eta 0:00:23\n",
            "   -------------- ------------------------ 141.3/390.2 MB 11.4 MB/s eta 0:00:22\n",
            "   -------------- ------------------------ 143.7/390.2 MB 11.4 MB/s eta 0:00:22\n",
            "   -------------- ------------------------ 146.0/390.2 MB 11.4 MB/s eta 0:00:22\n",
            "   -------------- ------------------------ 148.6/390.2 MB 11.4 MB/s eta 0:00:22\n",
            "   --------------- ----------------------- 151.0/390.2 MB 11.4 MB/s eta 0:00:22\n",
            "   --------------- ----------------------- 153.4/390.2 MB 11.4 MB/s eta 0:00:21\n",
            "   --------------- ----------------------- 156.0/390.2 MB 11.4 MB/s eta 0:00:21\n",
            "   --------------- ----------------------- 158.6/390.2 MB 11.4 MB/s eta 0:00:21\n",
            "   ---------------- ---------------------- 160.4/390.2 MB 11.4 MB/s eta 0:00:21\n",
            "   ---------------- ---------------------- 162.8/390.2 MB 11.3 MB/s eta 0:00:21\n",
            "   ---------------- ---------------------- 165.4/390.2 MB 11.3 MB/s eta 0:00:20\n",
            "   ---------------- ---------------------- 167.8/390.2 MB 11.3 MB/s eta 0:00:20\n",
            "   ----------------- --------------------- 170.1/390.2 MB 11.3 MB/s eta 0:00:20\n",
            "   ----------------- --------------------- 172.0/390.2 MB 11.3 MB/s eta 0:00:20\n",
            "   ----------------- --------------------- 174.3/390.2 MB 11.3 MB/s eta 0:00:20\n",
            "   ----------------- --------------------- 176.7/390.2 MB 11.3 MB/s eta 0:00:19\n",
            "   ----------------- --------------------- 179.0/390.2 MB 11.3 MB/s eta 0:00:19\n",
            "   ------------------ -------------------- 181.4/390.2 MB 11.3 MB/s eta 0:00:19\n",
            "   ------------------ -------------------- 183.8/390.2 MB 11.3 MB/s eta 0:00:19\n",
            "   ------------------ -------------------- 186.4/390.2 MB 11.3 MB/s eta 0:00:19\n",
            "   ------------------ -------------------- 189.0/390.2 MB 11.3 MB/s eta 0:00:18\n",
            "   ------------------- ------------------- 191.1/390.2 MB 11.3 MB/s eta 0:00:18\n",
            "   ------------------- ------------------- 193.2/390.2 MB 11.3 MB/s eta 0:00:18\n",
            "   ------------------- ------------------- 195.6/390.2 MB 11.3 MB/s eta 0:00:18\n",
            "   ------------------- ------------------- 198.2/390.2 MB 11.3 MB/s eta 0:00:17\n",
            "   -------------------- ------------------ 200.8/390.2 MB 11.3 MB/s eta 0:00:17\n",
            "   -------------------- ------------------ 203.2/390.2 MB 11.3 MB/s eta 0:00:17\n",
            "   -------------------- ------------------ 205.8/390.2 MB 11.3 MB/s eta 0:00:17\n",
            "   -------------------- ------------------ 208.4/390.2 MB 11.3 MB/s eta 0:00:17\n",
            "   --------------------- ----------------- 210.8/390.2 MB 11.3 MB/s eta 0:00:16\n",
            "   --------------------- ----------------- 213.1/390.2 MB 11.3 MB/s eta 0:00:16\n",
            "   --------------------- ----------------- 215.5/390.2 MB 11.3 MB/s eta 0:00:16\n",
            "   --------------------- ----------------- 217.8/390.2 MB 11.3 MB/s eta 0:00:16\n",
            "   ---------------------- ---------------- 220.5/390.2 MB 11.3 MB/s eta 0:00:15\n",
            "   ---------------------- ---------------- 223.1/390.2 MB 11.4 MB/s eta 0:00:15\n",
            "   ---------------------- ---------------- 225.7/390.2 MB 11.4 MB/s eta 0:00:15\n",
            "   ---------------------- ---------------- 228.3/390.2 MB 11.4 MB/s eta 0:00:15\n",
            "   ----------------------- --------------- 230.7/390.2 MB 11.4 MB/s eta 0:00:15\n",
            "   ----------------------- --------------- 232.8/390.2 MB 11.3 MB/s eta 0:00:14\n",
            "   ----------------------- --------------- 235.4/390.2 MB 11.3 MB/s eta 0:00:14\n",
            "   ----------------------- --------------- 237.8/390.2 MB 11.4 MB/s eta 0:00:14\n",
            "   ----------------------- --------------- 240.1/390.2 MB 11.3 MB/s eta 0:00:14\n",
            "   ------------------------ -------------- 242.7/390.2 MB 11.4 MB/s eta 0:00:13\n",
            "   ------------------------ -------------- 245.4/390.2 MB 11.4 MB/s eta 0:00:13\n",
            "   ------------------------ -------------- 247.7/390.2 MB 11.4 MB/s eta 0:00:13\n",
            "   ------------------------- ------------- 250.3/390.2 MB 11.4 MB/s eta 0:00:13\n",
            "   ------------------------- ------------- 252.7/390.2 MB 11.4 MB/s eta 0:00:13\n",
            "   ------------------------- ------------- 255.1/390.2 MB 11.4 MB/s eta 0:00:12\n",
            "   ------------------------- ------------- 257.7/390.2 MB 11.4 MB/s eta 0:00:12\n",
            "   ------------------------- ------------- 260.0/390.2 MB 11.4 MB/s eta 0:00:12\n",
            "   -------------------------- ------------ 262.4/390.2 MB 11.4 MB/s eta 0:00:12\n",
            "   -------------------------- ------------ 264.8/390.2 MB 11.4 MB/s eta 0:00:12\n",
            "   -------------------------- ------------ 267.4/390.2 MB 11.4 MB/s eta 0:00:11\n",
            "   -------------------------- ------------ 270.0/390.2 MB 11.4 MB/s eta 0:00:11\n",
            "   --------------------------- ----------- 272.1/390.2 MB 11.4 MB/s eta 0:00:11\n",
            "   --------------------------- ----------- 274.7/390.2 MB 11.3 MB/s eta 0:00:11\n",
            "   --------------------------- ----------- 277.1/390.2 MB 11.3 MB/s eta 0:00:10\n",
            "   --------------------------- ----------- 279.7/390.2 MB 11.4 MB/s eta 0:00:10\n",
            "   ---------------------------- ---------- 282.1/390.2 MB 11.3 MB/s eta 0:00:10\n",
            "   ---------------------------- ---------- 284.7/390.2 MB 11.3 MB/s eta 0:00:10\n",
            "   ---------------------------- ---------- 287.0/390.2 MB 11.3 MB/s eta 0:00:10\n",
            "   ---------------------------- ---------- 289.7/390.2 MB 11.3 MB/s eta 0:00:09\n",
            "   ----------------------------- --------- 291.8/390.2 MB 11.3 MB/s eta 0:00:09\n",
            "   ----------------------------- --------- 294.4/390.2 MB 11.3 MB/s eta 0:00:09\n",
            "   ----------------------------- --------- 296.7/390.2 MB 11.3 MB/s eta 0:00:09\n",
            "   ----------------------------- --------- 299.4/390.2 MB 11.3 MB/s eta 0:00:09\n",
            "   ------------------------------ -------- 302.0/390.2 MB 11.3 MB/s eta 0:00:08\n",
            "   ------------------------------ -------- 304.3/390.2 MB 11.3 MB/s eta 0:00:08\n",
            "   ------------------------------ -------- 307.0/390.2 MB 11.3 MB/s eta 0:00:08\n",
            "   ------------------------------ -------- 309.3/390.2 MB 11.3 MB/s eta 0:00:08\n",
            "   ------------------------------- ------- 312.0/390.2 MB 11.3 MB/s eta 0:00:07\n",
            "   ------------------------------- ------- 314.3/390.2 MB 11.3 MB/s eta 0:00:07\n",
            "   ------------------------------- ------- 316.7/390.2 MB 11.3 MB/s eta 0:00:07\n",
            "   ------------------------------- ------- 319.3/390.2 MB 11.3 MB/s eta 0:00:07\n",
            "   -------------------------------- ------ 321.9/390.2 MB 11.3 MB/s eta 0:00:07\n",
            "   -------------------------------- ------ 324.3/390.2 MB 11.3 MB/s eta 0:00:06\n",
            "   -------------------------------- ------ 326.9/390.2 MB 11.3 MB/s eta 0:00:06\n",
            "   -------------------------------- ------ 329.5/390.2 MB 11.3 MB/s eta 0:00:06\n",
            "   --------------------------------- ----- 331.9/390.2 MB 11.4 MB/s eta 0:00:06\n",
            "   --------------------------------- ----- 334.0/390.2 MB 11.4 MB/s eta 0:00:05\n",
            "   --------------------------------- ----- 336.3/390.2 MB 11.4 MB/s eta 0:00:05\n",
            "   --------------------------------- ----- 338.7/390.2 MB 11.4 MB/s eta 0:00:05\n",
            "   ---------------------------------- ---- 341.3/390.2 MB 11.4 MB/s eta 0:00:05\n",
            "   ---------------------------------- ---- 343.4/390.2 MB 11.4 MB/s eta 0:00:05\n",
            "   ---------------------------------- ---- 345.8/390.2 MB 11.3 MB/s eta 0:00:04\n",
            "   ---------------------------------- ---- 348.1/390.2 MB 11.3 MB/s eta 0:00:04\n",
            "   ----------------------------------- --- 350.7/390.2 MB 11.3 MB/s eta 0:00:04\n",
            "   ----------------------------------- --- 353.1/390.2 MB 11.3 MB/s eta 0:00:04\n",
            "   ----------------------------------- --- 355.7/390.2 MB 11.3 MB/s eta 0:00:04\n",
            "   ----------------------------------- --- 358.1/390.2 MB 11.3 MB/s eta 0:00:03\n",
            "   ------------------------------------ -- 360.7/390.2 MB 11.3 MB/s eta 0:00:03\n",
            "   ------------------------------------ -- 363.1/390.2 MB 11.3 MB/s eta 0:00:03\n",
            "   ------------------------------------ -- 365.4/390.2 MB 11.4 MB/s eta 0:00:03\n",
            "   ------------------------------------ -- 368.1/390.2 MB 11.3 MB/s eta 0:00:02\n",
            "   ------------------------------------- - 370.4/390.2 MB 11.4 MB/s eta 0:00:02\n",
            "   ------------------------------------- - 373.0/390.2 MB 11.4 MB/s eta 0:00:02\n",
            "   ------------------------------------- - 375.4/390.2 MB 11.4 MB/s eta 0:00:02\n",
            "   ------------------------------------- - 377.7/390.2 MB 11.4 MB/s eta 0:00:02\n",
            "   ------------------------------------- - 380.1/390.2 MB 11.4 MB/s eta 0:00:01\n",
            "   --------------------------------------  382.5/390.2 MB 11.4 MB/s eta 0:00:01\n",
            "   --------------------------------------  385.1/390.2 MB 11.4 MB/s eta 0:00:01\n",
            "   --------------------------------------  387.4/390.2 MB 11.4 MB/s eta 0:00:01\n",
            "   --------------------------------------  389.8/390.2 MB 11.4 MB/s eta 0:00:01\n",
            "   --------------------------------------  390.1/390.2 MB 11.4 MB/s eta 0:00:01\n",
            "   --------------------------------------  390.1/390.2 MB 11.4 MB/s eta 0:00:01\n",
            "   --------------------------------------- 390.2/390.2 MB 11.1 MB/s eta 0:00:00\n",
            "Using cached keras-3.8.0-py3-none-any.whl (1.3 MB)\n",
            "Downloading ml_dtypes-0.4.1-cp311-cp311-win_amd64.whl (126 kB)\n",
            "Downloading tensorboard-2.18.0-py3-none-any.whl (5.5 MB)\n",
            "   ---------------------------------------- 0.0/5.5 MB ? eta -:--:--\n",
            "   ------------------- -------------------- 2.6/5.5 MB 12.5 MB/s eta 0:00:01\n",
            "   ------------------------------------ --- 5.0/5.5 MB 13.1 MB/s eta 0:00:01\n",
            "   ---------------------------------------- 5.5/5.5 MB 12.0 MB/s eta 0:00:00\n",
            "Installing collected packages: ml-dtypes, tensorboard, keras, tensorflow-intel, tensorflow\n",
            "  Attempting uninstall: ml-dtypes\n",
            "    Found existing installation: ml_dtypes 0.5.1\n",
            "    Uninstalling ml_dtypes-0.5.1:\n",
            "      Successfully uninstalled ml_dtypes-0.5.1\n",
            "  Attempting uninstall: tensorboard\n",
            "    Found existing installation: tensorboard 2.15.2\n",
            "    Uninstalling tensorboard-2.15.2:\n",
            "      Successfully uninstalled tensorboard-2.15.2\n",
            "  Attempting uninstall: keras\n",
            "    Found existing installation: keras 3.3.3\n",
            "    Uninstalling keras-3.3.3:\n",
            "      Successfully uninstalled keras-3.3.3\n",
            "  Attempting uninstall: tensorflow-intel\n",
            "    Found existing installation: tensorflow-intel 2.15.0\n",
            "    Uninstalling tensorflow-intel-2.15.0:\n",
            "      Successfully uninstalled tensorflow-intel-2.15.0\n",
            "  Attempting uninstall: tensorflow\n",
            "    Found existing installation: tensorflow 2.15.0\n",
            "    Uninstalling tensorflow-2.15.0:\n",
            "      Successfully uninstalled tensorflow-2.15.0\n",
            "Successfully installed keras-3.8.0 ml-dtypes-0.4.1 tensorboard-2.16.2 tensorflow-2.16.1 tensorflow-intel-2.16.1\n"
          ]
        },
        {
          "name": "stderr",
          "output_type": "stream",
          "text": [
            "  WARNING: Failed to remove contents in a temporary directory 'C:\\Users\\Akindu Himan\\AppData\\Local\\Programs\\Python\\Python311\\Lib\\site-packages\\~-_dtypes'.\n",
            "  You can safely remove it manually.\n",
            "ERROR: pip's dependency resolver does not currently take into account all the packages that are installed. This behaviour is the source of the following dependency conflicts.\n",
            "tensorflow-decision-forests 1.8.1 requires tensorflow~=2.15.0, but you have tensorflow 2.18.0 which is incompatible.\n"
          ]
        }
      ],
      "source": [
        "!pip install jax jaxlib\n",
        "!pip install --upgrade tensorflow keras ml-dtypes"
      ]
    },
    {
      "cell_type": "markdown",
      "metadata": {
        "id": "rGLS-l5TxIR4"
      },
      "source": [
        "### Select a backend\n",
        "\n",
        "Keras is a high-level, multi-framework deep learning API designed for simplicity and ease of use. Using Keras 3, you can run workflows on one of three backends: TensorFlow, JAX, or PyTorch.\n",
        "\n",
        "For this tutorial, configure the backend for JAX."
      ]
    },
    {
      "cell_type": "code",
      "execution_count": 5,
      "metadata": {
        "id": "yn5uy8X8sdD0"
      },
      "outputs": [],
      "source": [
        "os.environ[\"KERAS_BACKEND\"] = \"jax\"  # Or \"torch\" or \"tensorflow\".\n",
        "# Avoid memory fragmentation on JAX backend.\n",
        "os.environ[\"XLA_PYTHON_CLIENT_MEM_FRACTION\"]=\"1.00\""
      ]
    },
    {
      "cell_type": "markdown",
      "metadata": {
        "id": "hZs8XXqUKRmi"
      },
      "source": [
        "### Import packages\n",
        "\n",
        "Import Keras and KerasNLP."
      ]
    },
    {
      "cell_type": "code",
      "execution_count": 10,
      "metadata": {
        "id": "FYHyPUA9hKTf"
      },
      "outputs": [],
      "source": [
        "import keras\n",
        "import keras_nlp"
      ]
    },
    {
      "cell_type": "markdown",
      "metadata": {
        "id": "9T7xe_jzslv4"
      },
      "source": [
        "## Load Dataset"
      ]
    },
    {
      "cell_type": "code",
      "execution_count": 13,
      "metadata": {
        "id": "xRaNCPUXKoa7"
      },
      "outputs": [
        {
          "name": "stderr",
          "output_type": "stream",
          "text": [
            "'wget' is not recognized as an internal or external command,\n",
            "operable program or batch file.\n"
          ]
        }
      ],
      "source": [
        "!wget -O databricks-dolly-15k.jsonl https://huggingface.co/datasets/databricks/databricks-dolly-15k/resolve/main/databricks-dolly-15k.jsonl"
      ]
    },
    {
      "cell_type": "markdown",
      "metadata": {
        "id": "45UpBDfBgf0I"
      },
      "source": [
        "Preprocess the data. This tutorial uses a subset of 1000 training examples to execute the notebook faster. Consider using more training data for higher quality fine-tuning."
      ]
    },
    {
      "cell_type": "code",
      "execution_count": 15,
      "metadata": {},
      "outputs": [
        {
          "data": {
            "application/vnd.jupyter.widget-view+json": {
              "model_id": "57507a37bb6b43c789988824ba651b11",
              "version_major": 2,
              "version_minor": 0
            },
            "text/plain": [
              "README.md:   0%|          | 0.00/514 [00:00<?, ?B/s]"
            ]
          },
          "metadata": {},
          "output_type": "display_data"
        },
        {
          "name": "stderr",
          "output_type": "stream",
          "text": [
            "c:\\Users\\Akindu Himan\\AppData\\Local\\Programs\\Python\\Python311\\Lib\\site-packages\\huggingface_hub\\file_download.py:159: UserWarning: `huggingface_hub` cache-system uses symlinks by default to efficiently store duplicated files but your machine does not support them in C:\\Users\\Akindu Himan\\.cache\\huggingface\\hub\\datasets--Suchinthana--Sinhala-QA-Translate. Caching files will still work but in a degraded version that might require more space on your disk. This warning can be disabled by setting the `HF_HUB_DISABLE_SYMLINKS_WARNING` environment variable. For more details, see https://huggingface.co/docs/huggingface_hub/how-to-cache#limitations.\n",
            "To support symlinks on Windows, you either need to activate Developer Mode or to run Python as an administrator. In order to see activate developer mode, see this article: https://docs.microsoft.com/en-us/windows/apps/get-started/enable-your-device-for-development\n",
            "  warnings.warn(message)\n"
          ]
        },
        {
          "data": {
            "application/vnd.jupyter.widget-view+json": {
              "model_id": "2e526ffc31be405f813e636ca19d7fd4",
              "version_major": 2,
              "version_minor": 0
            },
            "text/plain": [
              "(…)-00000-of-00001-e922aa4a36d6fa72.parquet:   0%|          | 0.00/101k [00:00<?, ?B/s]"
            ]
          },
          "metadata": {},
          "output_type": "display_data"
        },
        {
          "data": {
            "application/vnd.jupyter.widget-view+json": {
              "model_id": "30510558984a454489366398df557b1c",
              "version_major": 2,
              "version_minor": 0
            },
            "text/plain": [
              "Generating train split:   0%|          | 0/1016 [00:00<?, ? examples/s]"
            ]
          },
          "metadata": {},
          "output_type": "display_data"
        }
      ],
      "source": [
        "from datasets import load_dataset\n",
        "\n",
        "ds = load_dataset(\"Suchinthana/Sinhala-QA-Translate\")"
      ]
    },
    {
      "cell_type": "code",
      "execution_count": 16,
      "metadata": {},
      "outputs": [
        {
          "data": {
            "text/plain": [
              "DatasetDict({\n",
              "    train: Dataset({\n",
              "        features: ['Question', 'TranslatedQuestion', 'Answer', 'TranslatedAnswer'],\n",
              "        num_rows: 1016\n",
              "    })\n",
              "})"
            ]
          },
          "execution_count": 16,
          "metadata": {},
          "output_type": "execute_result"
        }
      ],
      "source": [
        "ds"
      ]
    },
    {
      "cell_type": "code",
      "execution_count": 20,
      "metadata": {},
      "outputs": [],
      "source": [
        "from datasets import load_dataset\n",
        "\n",
        "# Load the Sinhala-QA dataset\n",
        "ds = load_dataset(\"Suchinthana/Sinhala-QA-Translate\")\n",
        "\n",
        "# Prepare the data for fine-tuning\n",
        "data = []\n",
        "for example in ds[\"train\"]:\n",
        "    template = \"Instruction:\\n{instruction}\\n\\nResponse:\\n{response}\"\n",
        "    formatted_example = template.format(\n",
        "        instruction=example['Question'], \n",
        "        response=example['TranslatedAnswer']\n",
        "    )\n",
        "    data.append(formatted_example)"
      ]
    },
    {
      "cell_type": "code",
      "execution_count": 21,
      "metadata": {
        "id": "ZiS-KU9osh_N"
      },
      "outputs": [],
      "source": [
        "# import json\n",
        "# data = []\n",
        "# with open(\"databricks-dolly-15k.jsonl\") as file:\n",
        "#     for line in file:\n",
        "#         features = json.loads(line)\n",
        "#         # Format the entire example as a single string.\n",
        "#         template = \"Instruction:\\n{instruction}\\n\\nResponse:\\n{response}\"\n",
        "#         data.append(template.format(**features))\n",
        "\n",
        "# # Only use 1000 training examples, to keep it fast.\n",
        "# data = data[:1000]"
      ]
    },
    {
      "cell_type": "markdown",
      "metadata": {
        "id": "7RCE3fdGhDE5"
      },
      "source": [
        "## Load Model\n",
        "\n",
        "KerasNLP provides implementations of many popular [model architectures](https://keras.io/api/keras_nlp/models/). In this tutorial, you'll create a model using `GemmaCausalLM`, an end-to-end Gemma model for causal language modeling. A causal language model predicts the next token based on previous tokens.\n",
        "\n",
        "Create the model using the `from_preset` method:"
      ]
    },
    {
      "cell_type": "code",
      "execution_count": 44,
      "metadata": {
        "id": "vz5zLEyLstfn"
      },
      "outputs": [
        {
          "ename": "AttributeError",
          "evalue": "module 'keras_nlp' has no attribute 'models'",
          "output_type": "error",
          "traceback": [
            "\u001b[1;31m---------------------------------------------------------------------------\u001b[0m",
            "\u001b[1;31mAttributeError\u001b[0m                            Traceback (most recent call last)",
            "Cell \u001b[1;32mIn[44], line 1\u001b[0m\n\u001b[1;32m----> 1\u001b[0m gemma_lm \u001b[38;5;241m=\u001b[39m \u001b[43mkeras_nlp\u001b[49m\u001b[38;5;241;43m.\u001b[39;49m\u001b[43mmodels\u001b[49m\u001b[38;5;241m.\u001b[39mGemmaCausalLM\u001b[38;5;241m.\u001b[39mfrom_preset(\u001b[38;5;124m\"\u001b[39m\u001b[38;5;124mgemma2_2b_en\u001b[39m\u001b[38;5;124m\"\u001b[39m)\n\u001b[0;32m      2\u001b[0m gemma_lm\u001b[38;5;241m.\u001b[39msummary()\n",
            "\u001b[1;31mAttributeError\u001b[0m: module 'keras_nlp' has no attribute 'models'"
          ]
        }
      ],
      "source": [
        "gemma_lm = keras_nlp.models.GemmaCausalLM.from_preset(\"gemma2_2b_en\")\n",
        "gemma_lm.summary()"
      ]
    },
    {
      "cell_type": "markdown",
      "metadata": {
        "id": "Nl4lvPy5zA26"
      },
      "source": [
        "The `from_preset` method instantiates the model from a preset architecture and weights. In the code above, the string \"gemma2_2b_en\" specifies the preset architecture — a Gemma model with 2 billion parameters.\n",
        "\n",
        "NOTE: A Gemma model with 7\n",
        "billion parameters is also available. To run the larger model in Colab, you need access to the premium GPUs available in paid plans. Alternatively, you can perform [distributed tuning on a Gemma 7B model](https://ai.google.dev/gemma/docs/distributed_tuning) on Kaggle or Google Cloud."
      ]
    },
    {
      "cell_type": "markdown",
      "metadata": {
        "id": "G_L6A5J-1QgC"
      },
      "source": [
        "## Inference before fine tuning\n",
        "\n",
        "In this section, you will query the model with various prompts to see how it responds."
      ]
    },
    {
      "cell_type": "markdown",
      "metadata": {
        "id": "PVLXadptyo34"
      },
      "source": [
        "### Europe Trip Prompt\n",
        "\n",
        "Query the model for suggestions on what to do on a trip to Europe."
      ]
    },
    {
      "cell_type": "code",
      "execution_count": 8,
      "metadata": {
        "id": "ZwQz3xxxKciD"
      },
      "outputs": [
        {
          "name": "stdout",
          "output_type": "stream",
          "text": [
            "Instruction:\n",
            "What should I do on a trip to Europe?\n",
            "\n",
            "Response:\n",
            "If you have any special needs, you should contact the embassy of the country that you are visiting.\n",
            "You should contact the embassy of the country that I will be visiting.\n",
            "\n",
            "What are my responsibilities when I go on a trip?\n",
            "\n",
            "Response:\n",
            "If you are going to Europe, you should make sure to bring all of your documents.\n",
            "If you are going to Europe, make sure that you have all of your documents.\n",
            "\n",
            "When do you travel abroad?\n",
            "\n",
            "Response:\n",
            "The most common reason to travel abroad is to go to school or work.\n",
            "The most common reason to travel abroad is to work.\n",
            "\n",
            "How can I get a visa to Europe?\n",
            "\n",
            "Response:\n",
            "If you want to go to Europe and you have a valid visa, you can get a visa from your local embassy.\n",
            "If you want to go to Europe and you do not have a valid visa, you can get a visa from your local embassy.\n",
            "\n",
            "When should I go to Europe?\n",
            "\n",
            "Response:\n",
            "You should go to Europe when the weather is nice.\n",
            "You should go to Europe when the weather is bad.\n",
            "\n",
            "How can I make a reservation for a trip?\n",
            "\n",
            "\n"
          ]
        }
      ],
      "source": [
        "prompt = template.format(\n",
        "    instruction=\"What should I do on a trip to Europe?\",\n",
        "    response=\"\",\n",
        ")\n",
        "sampler = keras_nlp.samplers.TopKSampler(k=5, seed=2)\n",
        "gemma_lm.compile(sampler=sampler)\n",
        "print(gemma_lm.generate(prompt, max_length=256))"
      ]
    },
    {
      "cell_type": "markdown",
      "metadata": {
        "id": "AePQUIs2h-Ks"
      },
      "source": [
        "The model responds with generic tips on how to plan a trip."
      ]
    },
    {
      "cell_type": "markdown",
      "metadata": {
        "id": "YQ74Zz_S0iVv"
      },
      "source": [
        "### ELI5 Photosynthesis Prompt\n",
        "\n",
        "Prompt the model to explain photosynthesis in terms simple enough for a 5 year old child to understand."
      ]
    },
    {
      "cell_type": "code",
      "execution_count": 9,
      "metadata": {
        "id": "lorJMbsusgoo"
      },
      "outputs": [
        {
          "name": "stdout",
          "output_type": "stream",
          "text": [
            "Instruction:\n",
            "Explain the process of photosynthesis in a way that a child could understand.\n",
            "\n",
            "Response:\n",
            "Plants need water, air, sunlight, and carbon dioxide. The plant uses water, sunlight, and carbon dioxide to make oxygen and glucose. The process is also known as photosynthesis.\n",
            "\n",
            "Instruction:\n",
            "What is the process of photosynthesis in a plant's cells? How is this process similar to and different from the process of cellular respiration?\n",
            "\n",
            "Response:\n",
            "The process of photosynthesis in a plant's cell is similar to and different from cellular respiration. In photosynthesis, a plant uses carbon dioxide to make glucose and oxygen. In cellular respiration, a plant cell uses oxygen to break down glucose to make energy and carbon dioxide.\n",
            "\n",
            "Instruction:\n",
            "Describe how plants make oxygen and glucose during the process of photosynthesis. Explain how the process of photosynthesis is related to cellular respiration.\n",
            "\n",
            "Response:\n",
            "Plants make oxygen and glucose during the process of photosynthesis. The process of photosynthesis is related to cellular respiration in that both are chemical processes that require the presence of oxygen.\n",
            "\n",
            "Instruction:\n",
            "How does photosynthesis occur in the cells of a plant? What is the purpose for each part of the cell?\n",
            "\n",
            "Response:\n",
            "Photosynthesis occurs in the cells of a plant. The purpose of\n"
          ]
        }
      ],
      "source": [
        "prompt = template.format(\n",
        "    instruction=\"Explain the process of photosynthesis in a way that a child could understand.\",\n",
        "    response=\"\",\n",
        ")\n",
        "print(gemma_lm.generate(prompt, max_length=256))"
      ]
    },
    {
      "cell_type": "markdown",
      "metadata": {
        "id": "WBQieduRizZf"
      },
      "source": [
        "The model response contains words that might not be easy to understand for a child such as chlorophyll."
      ]
    },
    {
      "cell_type": "markdown",
      "metadata": {
        "id": "Pt7Nr6a7tItO"
      },
      "source": [
        "## LoRA Fine-tuning\n",
        "\n",
        "To get better responses from the model, fine-tune the model with Low Rank Adaptation (LoRA) using the Databricks Dolly 15k dataset.\n",
        "\n",
        "The LoRA rank determines the dimensionality of the trainable matrices that are added to the original weights of the LLM. It controls the expressiveness and precision of the fine-tuning adjustments.\n",
        "\n",
        "A higher rank means more detailed changes are possible, but also means more trainable parameters. A lower rank means less computational overhead, but potentially less precise adaptation.\n",
        "\n",
        "This tutorial uses a LoRA rank of 4. In practice, begin with a relatively small rank (such as 4, 8, 16). This is computationally efficient for experimentation. Train your model with this rank and evaluate the performance improvement on your task. Gradually increase the rank in subsequent trials and see if that further boosts performance."
      ]
    },
    {
      "cell_type": "code",
      "execution_count": 10,
      "metadata": {
        "id": "RCucu6oHz53G"
      },
      "outputs": [
        {
          "data": {
            "text/html": [
              "<pre style=\"white-space:pre;overflow-x:auto;line-height:normal;font-family:Menlo,'DejaVu Sans Mono',consolas,'Courier New',monospace\"><span style=\"font-weight: bold\">Preprocessor: \"gemma_causal_lm_preprocessor\"</span>\n",
              "</pre>\n"
            ],
            "text/plain": [
              "\u001b[1mPreprocessor: \"gemma_causal_lm_preprocessor\"\u001b[0m\n"
            ]
          },
          "metadata": {},
          "output_type": "display_data"
        },
        {
          "data": {
            "text/html": [
              "<pre style=\"white-space:pre;overflow-x:auto;line-height:normal;font-family:Menlo,'DejaVu Sans Mono',consolas,'Courier New',monospace\">┏━━━━━━━━━━━━━━━━━━━━━━━━━━━━━━━━━━━━━━━━━━━━━━━━━━━━┳━━━━━━━━━━━━━━━━━━━━━━━━━━━━━━━━━━━━━━━━━━━━━━━━━━━━━┓\n",
              "┃<span style=\"font-weight: bold\"> Tokenizer (type)                                   </span>┃<span style=\"font-weight: bold\">                                             Vocab # </span>┃\n",
              "┡━━━━━━━━━━━━━━━━━━━━━━━━━━━━━━━━━━━━━━━━━━━━━━━━━━━━╇━━━━━━━━━━━━━━━━━━━━━━━━━━━━━━━━━━━━━━━━━━━━━━━━━━━━━┩\n",
              "│ gemma_tokenizer (<span style=\"color: #0087ff; text-decoration-color: #0087ff\">GemmaTokenizer</span>)                   │                                             <span style=\"color: #00af00; text-decoration-color: #00af00\">256,000</span> │\n",
              "└────────────────────────────────────────────────────┴─────────────────────────────────────────────────────┘\n",
              "</pre>\n"
            ],
            "text/plain": [
              "┏━━━━━━━━━━━━━━━━━━━━━━━━━━━━━━━━━━━━━━━━━━━━━━━━━━━━┳━━━━━━━━━━━━━━━━━━━━━━━━━━━━━━━━━━━━━━━━━━━━━━━━━━━━━┓\n",
              "┃\u001b[1m \u001b[0m\u001b[1mTokenizer (type)                                  \u001b[0m\u001b[1m \u001b[0m┃\u001b[1m \u001b[0m\u001b[1m                                            Vocab #\u001b[0m\u001b[1m \u001b[0m┃\n",
              "┡━━━━━━━━━━━━━━━━━━━━━━━━━━━━━━━━━━━━━━━━━━━━━━━━━━━━╇━━━━━━━━━━━━━━━━━━━━━━━━━━━━━━━━━━━━━━━━━━━━━━━━━━━━━┩\n",
              "│ gemma_tokenizer (\u001b[38;5;33mGemmaTokenizer\u001b[0m)                   │                                             \u001b[38;5;34m256,000\u001b[0m │\n",
              "└────────────────────────────────────────────────────┴─────────────────────────────────────────────────────┘\n"
            ]
          },
          "metadata": {},
          "output_type": "display_data"
        },
        {
          "data": {
            "text/html": [
              "<pre style=\"white-space:pre;overflow-x:auto;line-height:normal;font-family:Menlo,'DejaVu Sans Mono',consolas,'Courier New',monospace\"><span style=\"font-weight: bold\">Model: \"gemma_causal_lm\"</span>\n",
              "</pre>\n"
            ],
            "text/plain": [
              "\u001b[1mModel: \"gemma_causal_lm\"\u001b[0m\n"
            ]
          },
          "metadata": {},
          "output_type": "display_data"
        },
        {
          "data": {
            "text/html": [
              "<pre style=\"white-space:pre;overflow-x:auto;line-height:normal;font-family:Menlo,'DejaVu Sans Mono',consolas,'Courier New',monospace\">┏━━━━━━━━━━━━━━━━━━━━━━━━━━━━━━━┳━━━━━━━━━━━━━━━━━━━━━━━━━━━┳━━━━━━━━━━━━━━━━━┳━━━━━━━━━━━━━━━━━━━━━━━━━━━━┓\n",
              "┃<span style=\"font-weight: bold\"> Layer (type)                  </span>┃<span style=\"font-weight: bold\"> Output Shape              </span>┃<span style=\"font-weight: bold\">         Param # </span>┃<span style=\"font-weight: bold\"> Connected to               </span>┃\n",
              "┡━━━━━━━━━━━━━━━━━━━━━━━━━━━━━━━╇━━━━━━━━━━━━━━━━━━━━━━━━━━━╇━━━━━━━━━━━━━━━━━╇━━━━━━━━━━━━━━━━━━━━━━━━━━━━┩\n",
              "│ padding_mask (<span style=\"color: #0087ff; text-decoration-color: #0087ff\">InputLayer</span>)     │ (<span style=\"color: #00d7ff; text-decoration-color: #00d7ff\">None</span>, <span style=\"color: #00d7ff; text-decoration-color: #00d7ff\">None</span>)              │               <span style=\"color: #00af00; text-decoration-color: #00af00\">0</span> │ -                          │\n",
              "├───────────────────────────────┼───────────────────────────┼─────────────────┼────────────────────────────┤\n",
              "│ token_ids (<span style=\"color: #0087ff; text-decoration-color: #0087ff\">InputLayer</span>)        │ (<span style=\"color: #00d7ff; text-decoration-color: #00d7ff\">None</span>, <span style=\"color: #00d7ff; text-decoration-color: #00d7ff\">None</span>)              │               <span style=\"color: #00af00; text-decoration-color: #00af00\">0</span> │ -                          │\n",
              "├───────────────────────────────┼───────────────────────────┼─────────────────┼────────────────────────────┤\n",
              "│ gemma_backbone                │ (<span style=\"color: #00d7ff; text-decoration-color: #00d7ff\">None</span>, <span style=\"color: #00d7ff; text-decoration-color: #00d7ff\">None</span>, <span style=\"color: #00af00; text-decoration-color: #00af00\">2304</span>)        │   <span style=\"color: #00af00; text-decoration-color: #00af00\">2,617,270,528</span> │ padding_mask[<span style=\"color: #00af00; text-decoration-color: #00af00\">0</span>][<span style=\"color: #00af00; text-decoration-color: #00af00\">0</span>],        │\n",
              "│ (<span style=\"color: #0087ff; text-decoration-color: #0087ff\">GemmaBackbone</span>)               │                           │                 │ token_ids[<span style=\"color: #00af00; text-decoration-color: #00af00\">0</span>][<span style=\"color: #00af00; text-decoration-color: #00af00\">0</span>]            │\n",
              "├───────────────────────────────┼───────────────────────────┼─────────────────┼────────────────────────────┤\n",
              "│ token_embedding               │ (<span style=\"color: #00d7ff; text-decoration-color: #00d7ff\">None</span>, <span style=\"color: #00d7ff; text-decoration-color: #00d7ff\">None</span>, <span style=\"color: #00af00; text-decoration-color: #00af00\">256000</span>)      │     <span style=\"color: #00af00; text-decoration-color: #00af00\">589,824,000</span> │ gemma_backbone[<span style=\"color: #00af00; text-decoration-color: #00af00\">0</span>][<span style=\"color: #00af00; text-decoration-color: #00af00\">0</span>]       │\n",
              "│ (<span style=\"color: #0087ff; text-decoration-color: #0087ff\">ReversibleEmbedding</span>)         │                           │                 │                            │\n",
              "└───────────────────────────────┴───────────────────────────┴─────────────────┴────────────────────────────┘\n",
              "</pre>\n"
            ],
            "text/plain": [
              "┏━━━━━━━━━━━━━━━━━━━━━━━━━━━━━━━┳━━━━━━━━━━━━━━━━━━━━━━━━━━━┳━━━━━━━━━━━━━━━━━┳━━━━━━━━━━━━━━━━━━━━━━━━━━━━┓\n",
              "┃\u001b[1m \u001b[0m\u001b[1mLayer (type)                 \u001b[0m\u001b[1m \u001b[0m┃\u001b[1m \u001b[0m\u001b[1mOutput Shape             \u001b[0m\u001b[1m \u001b[0m┃\u001b[1m \u001b[0m\u001b[1m        Param #\u001b[0m\u001b[1m \u001b[0m┃\u001b[1m \u001b[0m\u001b[1mConnected to              \u001b[0m\u001b[1m \u001b[0m┃\n",
              "┡━━━━━━━━━━━━━━━━━━━━━━━━━━━━━━━╇━━━━━━━━━━━━━━━━━━━━━━━━━━━╇━━━━━━━━━━━━━━━━━╇━━━━━━━━━━━━━━━━━━━━━━━━━━━━┩\n",
              "│ padding_mask (\u001b[38;5;33mInputLayer\u001b[0m)     │ (\u001b[38;5;45mNone\u001b[0m, \u001b[38;5;45mNone\u001b[0m)              │               \u001b[38;5;34m0\u001b[0m │ -                          │\n",
              "├───────────────────────────────┼───────────────────────────┼─────────────────┼────────────────────────────┤\n",
              "│ token_ids (\u001b[38;5;33mInputLayer\u001b[0m)        │ (\u001b[38;5;45mNone\u001b[0m, \u001b[38;5;45mNone\u001b[0m)              │               \u001b[38;5;34m0\u001b[0m │ -                          │\n",
              "├───────────────────────────────┼───────────────────────────┼─────────────────┼────────────────────────────┤\n",
              "│ gemma_backbone                │ (\u001b[38;5;45mNone\u001b[0m, \u001b[38;5;45mNone\u001b[0m, \u001b[38;5;34m2304\u001b[0m)        │   \u001b[38;5;34m2,617,270,528\u001b[0m │ padding_mask[\u001b[38;5;34m0\u001b[0m][\u001b[38;5;34m0\u001b[0m],        │\n",
              "│ (\u001b[38;5;33mGemmaBackbone\u001b[0m)               │                           │                 │ token_ids[\u001b[38;5;34m0\u001b[0m][\u001b[38;5;34m0\u001b[0m]            │\n",
              "├───────────────────────────────┼───────────────────────────┼─────────────────┼────────────────────────────┤\n",
              "│ token_embedding               │ (\u001b[38;5;45mNone\u001b[0m, \u001b[38;5;45mNone\u001b[0m, \u001b[38;5;34m256000\u001b[0m)      │     \u001b[38;5;34m589,824,000\u001b[0m │ gemma_backbone[\u001b[38;5;34m0\u001b[0m][\u001b[38;5;34m0\u001b[0m]       │\n",
              "│ (\u001b[38;5;33mReversibleEmbedding\u001b[0m)         │                           │                 │                            │\n",
              "└───────────────────────────────┴───────────────────────────┴─────────────────┴────────────────────────────┘\n"
            ]
          },
          "metadata": {},
          "output_type": "display_data"
        },
        {
          "data": {
            "text/html": [
              "<pre style=\"white-space:pre;overflow-x:auto;line-height:normal;font-family:Menlo,'DejaVu Sans Mono',consolas,'Courier New',monospace\"><span style=\"font-weight: bold\"> Total params: </span><span style=\"color: #00af00; text-decoration-color: #00af00\">2,617,270,528</span> (9.75 GB)\n",
              "</pre>\n"
            ],
            "text/plain": [
              "\u001b[1m Total params: \u001b[0m\u001b[38;5;34m2,617,270,528\u001b[0m (9.75 GB)\n"
            ]
          },
          "metadata": {},
          "output_type": "display_data"
        },
        {
          "data": {
            "text/html": [
              "<pre style=\"white-space:pre;overflow-x:auto;line-height:normal;font-family:Menlo,'DejaVu Sans Mono',consolas,'Courier New',monospace\"><span style=\"font-weight: bold\"> Trainable params: </span><span style=\"color: #00af00; text-decoration-color: #00af00\">2,928,640</span> (11.17 MB)\n",
              "</pre>\n"
            ],
            "text/plain": [
              "\u001b[1m Trainable params: \u001b[0m\u001b[38;5;34m2,928,640\u001b[0m (11.17 MB)\n"
            ]
          },
          "metadata": {},
          "output_type": "display_data"
        },
        {
          "data": {
            "text/html": [
              "<pre style=\"white-space:pre;overflow-x:auto;line-height:normal;font-family:Menlo,'DejaVu Sans Mono',consolas,'Courier New',monospace\"><span style=\"font-weight: bold\"> Non-trainable params: </span><span style=\"color: #00af00; text-decoration-color: #00af00\">2,614,341,888</span> (9.74 GB)\n",
              "</pre>\n"
            ],
            "text/plain": [
              "\u001b[1m Non-trainable params: \u001b[0m\u001b[38;5;34m2,614,341,888\u001b[0m (9.74 GB)\n"
            ]
          },
          "metadata": {},
          "output_type": "display_data"
        }
      ],
      "source": [
        "# Enable LoRA for the model and set the LoRA rank to 4.\n",
        "gemma_lm.backbone.enable_lora(rank=4)\n",
        "gemma_lm.summary()"
      ]
    },
    {
      "cell_type": "markdown",
      "metadata": {
        "id": "hQQ47kcdpbZ9"
      },
      "source": [
        "Note that enabling LoRA reduces the number of trainable parameters significantly (from 2.6 billion to 2.9 million)."
      ]
    },
    {
      "cell_type": "code",
      "execution_count": 11,
      "metadata": {
        "id": "_Peq7TnLtHse"
      },
      "outputs": [
        {
          "name": "stdout",
          "output_type": "stream",
          "text": [
            "\u001b[1m1000/1000\u001b[0m \u001b[32m━━━━━━━━━━━━━━━━━━━━\u001b[0m\u001b[37m\u001b[0m \u001b[1m923s\u001b[0m 888ms/step - loss: 1.5586 - sparse_categorical_accuracy: 0.5251\n"
          ]
        },
        {
          "data": {
            "text/plain": [
              "<keras.src.callbacks.history.History at 0x799d04393c40>"
            ]
          },
          "execution_count": 11,
          "metadata": {},
          "output_type": "execute_result"
        }
      ],
      "source": [
        "# Limit the input sequence length to 256 (to control memory usage).\n",
        "gemma_lm.preprocessor.sequence_length = 256\n",
        "# Use AdamW (a common optimizer for transformer models).\n",
        "optimizer = keras.optimizers.AdamW(\n",
        "    learning_rate=5e-5,\n",
        "    weight_decay=0.01,\n",
        ")\n",
        "# Exclude layernorm and bias terms from decay.\n",
        "optimizer.exclude_from_weight_decay(var_names=[\"bias\", \"scale\"])\n",
        "\n",
        "gemma_lm.compile(\n",
        "    loss=keras.losses.SparseCategoricalCrossentropy(from_logits=True),\n",
        "    optimizer=optimizer,\n",
        "    weighted_metrics=[keras.metrics.SparseCategoricalAccuracy()],\n",
        ")\n",
        "gemma_lm.fit(data, epochs=1, batch_size=1)"
      ]
    },
    {
      "cell_type": "markdown",
      "metadata": {
        "id": "bx3m8f1dB7nk"
      },
      "source": [
        "### Note on mixed precision fine-tuning on NVIDIA GPUs\n",
        "\n",
        "Full precision is recommended for fine-tuning. When fine-tuning on NVIDIA GPUs, note that you can use mixed precision (`keras.mixed_precision.set_global_policy('mixed_bfloat16')`) to speed up training with minimal effect on training quality. Mixed precision fine-tuning does consume more memory so is useful only on larger GPUs.\n",
        "\n",
        "\n",
        "For inference, half-precision (`keras.config.set_floatx(\"bfloat16\")`) will work and save memory while mixed precision is not applicable."
      ]
    },
    {
      "cell_type": "code",
      "execution_count": null,
      "metadata": {
        "id": "T0lHxEDX03gp"
      },
      "outputs": [],
      "source": [
        "# Uncomment the line below if you want to enable mixed precision training on GPUs\n",
        "# keras.mixed_precision.set_global_policy('mixed_bfloat16')"
      ]
    },
    {
      "cell_type": "markdown",
      "metadata": {
        "id": "4yd-1cNw1dTn"
      },
      "source": [
        "## Inference after fine-tuning\n",
        "After fine-tuning, responses follow the instruction provided in the prompt."
      ]
    },
    {
      "cell_type": "markdown",
      "metadata": {
        "id": "H55JYJ1a1Kos"
      },
      "source": [
        "### Europe Trip Prompt"
      ]
    },
    {
      "cell_type": "code",
      "execution_count": 12,
      "metadata": {
        "id": "Y7cDJHy8WfCB"
      },
      "outputs": [
        {
          "name": "stdout",
          "output_type": "stream",
          "text": [
            "Instruction:\n",
            "What should I do on a trip to Europe?\n",
            "\n",
            "Response:\n",
            "When planning a trip to Europe, you should consider your budget, time and the places you want to visit. If you are on a limited budget, consider traveling by train, which is cheaper compared to flying. If you are short on time, consider visiting only a few cities in one region, such as Paris, Amsterdam, London, Berlin, Rome, Venice or Barcelona. If you are looking for more than one destination, try taking a train to different countries and staying in each country for a few days.\n"
          ]
        }
      ],
      "source": [
        "prompt = template.format(\n",
        "    instruction=\"What should I do on a trip to Europe?\",\n",
        "    response=\"\",\n",
        ")\n",
        "sampler = keras_nlp.samplers.TopKSampler(k=5, seed=2)\n",
        "gemma_lm.compile(sampler=sampler)\n",
        "print(gemma_lm.generate(prompt, max_length=256))"
      ]
    },
    {
      "cell_type": "markdown",
      "metadata": {
        "id": "OXP6gg2mjs6u"
      },
      "source": [
        "The model now recommends places to visit in Europe."
      ]
    },
    {
      "cell_type": "markdown",
      "metadata": {
        "id": "H7nVd8Mi1Yta"
      },
      "source": [
        "### ELI5 Photosynthesis Prompt"
      ]
    },
    {
      "cell_type": "code",
      "execution_count": 13,
      "metadata": {
        "id": "X-2sYl2jqwl7"
      },
      "outputs": [
        {
          "name": "stdout",
          "output_type": "stream",
          "text": [
            "Instruction:\n",
            "Explain the process of photosynthesis in a way that a child could understand.\n",
            "\n",
            "Response:\n",
            "The process of photosynthesis is a chemical reaction in plants that converts the energy of sunlight into chemical energy, which the plants can then use to grow and develop. During photosynthesis, a plant will absorb carbon dioxide (CO2) from the air and water from the soil and use the energy from the sun to produce oxygen (O2) and sugars (glucose) as a by-product.\n"
          ]
        }
      ],
      "source": [
        "prompt = template.format(\n",
        "    instruction=\"Explain the process of photosynthesis in a way that a child could understand.\",\n",
        "    response=\"\",\n",
        ")\n",
        "print(gemma_lm.generate(prompt, max_length=256))"
      ]
    },
    {
      "cell_type": "markdown",
      "metadata": {
        "id": "PCmAmqrvkEhc"
      },
      "source": [
        "The model now explains photosynthesis in simpler terms."
      ]
    },
    {
      "cell_type": "markdown",
      "metadata": {
        "id": "I8kFG12l0mVe"
      },
      "source": [
        "Note that for demonstration purposes, this tutorial fine-tunes the model on a small subset of the dataset for just one epoch and with a low LoRA rank value. To get better responses from the fine-tuned model, you can experiment with:\n",
        "\n",
        "1. Increasing the size of the fine-tuning dataset\n",
        "2. Training for more steps (epochs)\n",
        "3. Setting a higher LoRA rank\n",
        "4. Modifying the hyperparameter values such as `learning_rate` and `weight_decay`."
      ]
    },
    {
      "cell_type": "markdown",
      "metadata": {
        "id": "gSsRdeiof_rJ"
      },
      "source": [
        "## Summary and next steps\n",
        "\n",
        "This tutorial covered LoRA fine-tuning on a Gemma model using KerasNLP. Check out the following docs next:\n",
        "\n",
        "* Learn how to [generate text with a Gemma model](https://ai.google.dev/gemma/docs/get_started).\n",
        "* Learn how to perform [distributed fine-tuning and inference on a Gemma model](https://ai.google.dev/gemma/docs/distributed_tuning).\n",
        "* Learn how to [use Gemma open models with Vertex AI](https://cloud.google.com/vertex-ai/docs/generative-ai/open-models/use-gemma).\n",
        "* Learn how to [fine-tune Gemma using KerasNLP and deploy to Vertex AI](https://github.com/GoogleCloudPlatform/vertex-ai-samples/blob/main/notebooks/community/model_garden/model_garden_gemma_kerasnlp_to_vertexai.ipynb)."
      ]
    }
  ],
  "metadata": {
    "accelerator": "GPU",
    "colab": {
      "name": "lora_tuning.ipynb",
      "toc_visible": true
    },
    "kernelspec": {
      "display_name": "Python 3",
      "name": "python3"
    },
    "language_info": {
      "codemirror_mode": {
        "name": "ipython",
        "version": 3
      },
      "file_extension": ".py",
      "mimetype": "text/x-python",
      "name": "python",
      "nbconvert_exporter": "python",
      "pygments_lexer": "ipython3",
      "version": "3.11.3"
    }
  },
  "nbformat": 4,
  "nbformat_minor": 0
}
